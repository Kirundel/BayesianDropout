{
 "cells": [
  {
   "cell_type": "markdown",
   "metadata": {},
   "source": [
    "In this notebook I try to reproduce the result from the paper (https://arxiv.org/pdf/1506.02142.pdf) for MNIST classification. The goal is to obtain uncertainty estimation based on dropouts. "
   ]
  },
  {
   "cell_type": "code",
   "execution_count": 2,
   "metadata": {},
   "outputs": [],
   "source": [
    "import matplotlib.pyplot as plt\n",
    "import copy\n",
    "import numpy as np\n",
    "from PIL import Image"
   ]
  },
  {
   "cell_type": "code",
   "execution_count": 3,
   "metadata": {},
   "outputs": [
    {
     "name": "stdout",
     "output_type": "stream",
     "text": [
      "Downloading http://yann.lecun.com/exdb/mnist/train-images-idx3-ubyte.gz to ../../data/MNIST/raw/train-images-idx3-ubyte.gz\n"
     ]
    },
    {
     "name": "stderr",
     "output_type": "stream",
     "text": [
      "/home/crunchy/.local/lib/python3.6/site-packages/torch/cuda/__init__.py:52: UserWarning: CUDA initialization: Found no NVIDIA driver on your system. Please check that you have an NVIDIA GPU and installed a driver from http://www.nvidia.com/Download/index.aspx (Triggered internally at  /pytorch/c10/cuda/CUDAFunctions.cpp:100.)\n",
      "  return torch._C._cuda_getDeviceCount() > 0\n"
     ]
    },
    {
     "data": {
      "application/vnd.jupyter.widget-view+json": {
       "model_id": "3fc0be5201ae4d62a1f28c10ee728ff3",
       "version_major": 2,
       "version_minor": 0
      },
      "text/plain": [
       "HBox(children=(HTML(value=''), FloatProgress(value=1.0, bar_style='info', layout=Layout(width='20px'), max=1.0…"
      ]
     },
     "metadata": {},
     "output_type": "display_data"
    },
    {
     "name": "stdout",
     "output_type": "stream",
     "text": [
      "Extracting ../../data/MNIST/raw/train-images-idx3-ubyte.gz to ../../data/MNIST/raw\n",
      "Downloading http://yann.lecun.com/exdb/mnist/train-labels-idx1-ubyte.gz to ../../data/MNIST/raw/train-labels-idx1-ubyte.gz\n"
     ]
    },
    {
     "data": {
      "application/vnd.jupyter.widget-view+json": {
       "model_id": "33b197224b2f448eb78f4a25890f09df",
       "version_major": 2,
       "version_minor": 0
      },
      "text/plain": [
       "HBox(children=(HTML(value=''), FloatProgress(value=1.0, bar_style='info', layout=Layout(width='20px'), max=1.0…"
      ]
     },
     "metadata": {},
     "output_type": "display_data"
    },
    {
     "name": "stdout",
     "output_type": "stream",
     "text": [
      "Extracting ../../data/MNIST/raw/train-labels-idx1-ubyte.gz to ../../data/MNIST/raw\n",
      "Downloading http://yann.lecun.com/exdb/mnist/t10k-images-idx3-ubyte.gz to ../../data/MNIST/raw/t10k-images-idx3-ubyte.gz\n"
     ]
    },
    {
     "data": {
      "application/vnd.jupyter.widget-view+json": {
       "model_id": "e5d3e501910d4afd86fbbaed26f13824",
       "version_major": 2,
       "version_minor": 0
      },
      "text/plain": [
       "HBox(children=(HTML(value=''), FloatProgress(value=1.0, bar_style='info', layout=Layout(width='20px'), max=1.0…"
      ]
     },
     "metadata": {},
     "output_type": "display_data"
    },
    {
     "name": "stdout",
     "output_type": "stream",
     "text": [
      "Extracting ../../data/MNIST/raw/t10k-images-idx3-ubyte.gz to ../../data/MNIST/raw\n",
      "Downloading http://yann.lecun.com/exdb/mnist/t10k-labels-idx1-ubyte.gz to ../../data/MNIST/raw/t10k-labels-idx1-ubyte.gz\n",
      "\n",
      "\n"
     ]
    },
    {
     "data": {
      "application/vnd.jupyter.widget-view+json": {
       "model_id": "aaedc56b98bc4bfb97d373c76af07bcb",
       "version_major": 2,
       "version_minor": 0
      },
      "text/plain": [
       "HBox(children=(HTML(value=''), FloatProgress(value=1.0, bar_style='info', layout=Layout(width='20px'), max=1.0…"
      ]
     },
     "metadata": {},
     "output_type": "display_data"
    },
    {
     "name": "stdout",
     "output_type": "stream",
     "text": [
      "Extracting ../../data/MNIST/raw/t10k-labels-idx1-ubyte.gz to ../../data/MNIST/raw\n",
      "Processing...\n",
      "Done!\n"
     ]
    },
    {
     "name": "stderr",
     "output_type": "stream",
     "text": [
      "/home/crunchy/extralibs/vision/torchvision/datasets/mnist.py:480: UserWarning: The given NumPy array is not writeable, and PyTorch does not support non-writeable tensors. This means you can write to the underlying (supposedly non-writeable) NumPy array using the tensor. You may want to copy the array to protect its data or make it writeable before converting it to a tensor. This type of warning will be suppressed for the rest of this program. (Triggered internally at  /pytorch/torch/csrc/utils/tensor_numpy.cpp:141.)\n",
      "  return torch.from_numpy(parsed.astype(m[2], copy=False)).view(*s)\n"
     ]
    },
    {
     "name": "stdout",
     "output_type": "stream",
     "text": [
      "Epoch [1/5], Step [100/600], Loss: 0.6451\n",
      "Epoch [1/5], Step [200/600], Loss: 0.4119\n",
      "Epoch [1/5], Step [300/600], Loss: 0.4003\n",
      "Epoch [1/5], Step [400/600], Loss: 0.4039\n",
      "Epoch [1/5], Step [500/600], Loss: 0.3002\n",
      "Epoch [1/5], Step [600/600], Loss: 0.1970\n",
      "Epoch [2/5], Step [100/600], Loss: 0.2794\n",
      "Epoch [2/5], Step [200/600], Loss: 0.1654\n",
      "Epoch [2/5], Step [300/600], Loss: 0.1257\n",
      "Epoch [2/5], Step [400/600], Loss: 0.1806\n",
      "Epoch [2/5], Step [500/600], Loss: 0.1679\n",
      "Epoch [2/5], Step [600/600], Loss: 0.0877\n",
      "Epoch [3/5], Step [100/600], Loss: 0.0554\n",
      "Epoch [3/5], Step [200/600], Loss: 0.0886\n",
      "Epoch [3/5], Step [300/600], Loss: 0.1266\n",
      "Epoch [3/5], Step [400/600], Loss: 0.0632\n",
      "Epoch [3/5], Step [500/600], Loss: 0.1311\n",
      "Epoch [3/5], Step [600/600], Loss: 0.2117\n",
      "Epoch [4/5], Step [100/600], Loss: 0.1710\n",
      "Epoch [4/5], Step [200/600], Loss: 0.0720\n",
      "Epoch [4/5], Step [300/600], Loss: 0.0617\n",
      "Epoch [4/5], Step [400/600], Loss: 0.0454\n",
      "Epoch [4/5], Step [500/600], Loss: 0.1338\n",
      "Epoch [4/5], Step [600/600], Loss: 0.1952\n",
      "Epoch [5/5], Step [100/600], Loss: 0.0643\n",
      "Epoch [5/5], Step [200/600], Loss: 0.1009\n",
      "Epoch [5/5], Step [300/600], Loss: 0.0885\n",
      "Epoch [5/5], Step [400/600], Loss: 0.0677\n",
      "Epoch [5/5], Step [500/600], Loss: 0.0950\n",
      "Epoch [5/5], Step [600/600], Loss: 0.0869\n",
      "Accuracy of the network on the 10000 test images: 97.3 %\n"
     ]
    }
   ],
   "source": [
    "#MNIST classification FC network adopted from somewhere in the Internet and slightly modified\n",
    "import torch\n",
    "import torch.nn as nn\n",
    "import torchvision\n",
    "import torchvision.transforms as transforms\n",
    "\n",
    "# Check Device configuration\n",
    "device = torch.device('cuda' if torch.cuda.is_available() else 'cpu')\n",
    "\n",
    "# Define Hyper-parameters \n",
    "input_size = 784\n",
    "hidden_size = 500\n",
    "num_classes = 10\n",
    "num_epochs = 5\n",
    "batch_size = 100\n",
    "learning_rate = 0.001\n",
    "\n",
    "# MNIST dataset \n",
    "train_dataset = torchvision.datasets.MNIST(root='../../data', \n",
    "                                           train=True, \n",
    "                                           transform=transforms.ToTensor(),  \n",
    "                                           download=True)\n",
    "\n",
    "test_dataset = torchvision.datasets.MNIST(root='../../data', \n",
    "                                          train=False, \n",
    "                                          transform=transforms.ToTensor())\n",
    "\n",
    "# Data loader\n",
    "train_loader = torch.utils.data.DataLoader(dataset=train_dataset, \n",
    "                                           batch_size=batch_size, \n",
    "                                           shuffle=True)\n",
    "\n",
    "test_loader = torch.utils.data.DataLoader(dataset=test_dataset, \n",
    "                                          batch_size=batch_size, \n",
    "                                          shuffle=False)\n",
    "\n",
    "# Fully connected neural network\n",
    "class NeuralNet(nn.Module):\n",
    "    def __init__(self, input_size, hidden_size, num_classes):\n",
    "        super(NeuralNet, self).__init__()\n",
    "        self.fc1 = nn.Linear(input_size, hidden_size) \n",
    "        self.relu1 = nn.Sigmoid()\n",
    "        self.fc2 = nn.Linear(hidden_size, hidden_size)  \n",
    "        self.relu2 = nn.Sigmoid()\n",
    "        self.fc3 = nn.Linear(hidden_size, num_classes)  \n",
    "    \n",
    "    def forward(self, x):\n",
    "        out = self.fc1(x)\n",
    "        out = self.relu1(out)\n",
    "        out = self.fc2(out)\n",
    "        out = self.relu2(out)\n",
    "        out = self.fc3(out)\n",
    "        return out\n",
    "\n",
    "model = NeuralNet(input_size, hidden_size, num_classes).to(device)\n",
    "\n",
    "# Loss and optimizer\n",
    "criterion = nn.CrossEntropyLoss()\n",
    "optimizer = torch.optim.Adam(model.parameters(), lr=learning_rate)  \n",
    "\n",
    "# Train the model\n",
    "total_step = len(train_loader)\n",
    "for epoch in range(num_epochs):\n",
    "    for i, (images, labels) in enumerate(train_loader):  \n",
    "        # Move tensors to the configured device\n",
    "        images = images.reshape(-1, 28*28).to(device)\n",
    "        labels = labels.to(device)\n",
    "        \n",
    "        # Forward pass\n",
    "        outputs = model(images)\n",
    "        loss = criterion(outputs, labels)\n",
    "        \n",
    "        # Backprpagation and optimization\n",
    "        optimizer.zero_grad()\n",
    "        loss.backward()\n",
    "        optimizer.step()\n",
    "        \n",
    "        if (i+1) % 100 == 0:\n",
    "            print ('Epoch [{}/{}], Step [{}/{}], Loss: {:.4f}' \n",
    "                   .format(epoch+1, num_epochs, i+1, total_step, loss.item()))\n",
    "\n",
    "# Test the model\n",
    "# In the test phase, don't need to compute gradients (for memory efficiency)\n",
    "with torch.no_grad():\n",
    "    correct = 0\n",
    "    total = 0\n",
    "    for images, labels in test_loader:\n",
    "        images = images.reshape(-1, 28*28).to(device)\n",
    "        labels = labels.to(device)\n",
    "        outputs = model(images)\n",
    "        _, predicted = torch.max(outputs.data, 1)\n",
    "        total += labels.size(0)\n",
    "        correct += (predicted == labels).sum().item()\n",
    "\n",
    "    print('Accuracy of the network on the 10000 test images: {} %'.format(100 * correct / total))\n",
    "\n",
    "# Save the model checkpoint\n",
    "torch.save(model.state_dict(), 'model.ckpt')\n",
    "\n"
   ]
  },
  {
   "cell_type": "code",
   "execution_count": 4,
   "metadata": {},
   "outputs": [],
   "source": [
    "index = 5\n",
    "for test_images, test_labels in test_loader:  \n",
    "    sample_image = test_images[index]    \n",
    "    sample_label = test_labels[index]\n",
    "    break"
   ]
  },
  {
   "cell_type": "code",
   "execution_count": 5,
   "metadata": {},
   "outputs": [],
   "source": [
    "#making set of rotated images\n",
    "mod_images = []\n",
    "for i in range(10):\n",
    "    mod_image = torch.Tensor(np.array(Image.fromarray(sample_image.view(28,28).detach().numpy()).rotate(-i*10))).view(1,28,28)\n",
    "    mod_images.append(mod_image)"
   ]
  },
  {
   "cell_type": "code",
   "execution_count": 13,
   "metadata": {},
   "outputs": [
    {
     "name": "stdout",
     "output_type": "stream",
     "text": [
      "tensor([[-4.7094,  8.5481, -1.4367, -3.4374, -1.5006, -4.4737, -6.2520,  2.4778,\n",
      "         -1.5631, -2.7179]], grad_fn=<AddmmBackward>)\n"
     ]
    },
    {
     "data": {
      "image/png": "[encoded data removed]",
      "text/plain": [
       "<Figure size 648x72 with 9 Axes>"
      ]
     },
     "metadata": {
      "needs_background": "light"
     },
     "output_type": "display_data"
    }
   ],
   "source": [
    "print(model(mod_images[1].reshape(-1,784)))\n",
    "fig = plt.figure(figsize=(9,1))\n",
    "for i in range(9):\n",
    "    fig.add_subplot(int('19{}'.format(i+1)))\n",
    "    plt.imshow(mod_images[i].view(28,28))"
   ]
  },
  {
   "cell_type": "code",
   "execution_count": 17,
   "metadata": {},
   "outputs": [],
   "source": [
    "#we need a portion of binary vectors to get a distribution of prediction\n",
    "from scipy.stats import bernoulli\n",
    "def bernoulli_diagonal(mat):\n",
    "    p=0.5\n",
    "    r = torch.Tensor(bernoulli.rvs(p, size=mat.shape[1]))\n",
    "    ind = np.diag_indices(mat.shape[1])\n",
    "    diag_mat = torch.zeros((mat.shape[1], mat.shape[1]))\n",
    "    diag_mat[ind[0], ind[1]] = r\n",
    "    return torch.Tensor(diag_mat)"
   ]
  },
  {
   "cell_type": "code",
   "execution_count": 18,
   "metadata": {},
   "outputs": [],
   "source": [
    "#actual distribution generation\n",
    "def distr_gen(model, sample_image, T):\n",
    "    distr = np.zeros((T,10))\n",
    "    for t in range(T):\n",
    "        model_copy = copy.deepcopy(model)\n",
    "    \n",
    "        data = model_copy.fc1.weight.data\n",
    "        diag = bernoulli_diagonal(data)\n",
    "        dropout_data = torch.matmul(data,diag)\n",
    "        model_copy.fc1.weight = nn.Parameter(dropout_data)\n",
    "    \n",
    "        data = model_copy.fc2.weight.data\n",
    "        diag = bernoulli_diagonal(data)\n",
    "        dropout_data = torch.matmul(data,diag)\n",
    "        model_copy.fc2.weight = nn.Parameter(dropout_data)\n",
    "    \n",
    "        data = model_copy.fc3.weight.data\n",
    "        diag = bernoulli_diagonal(data)\n",
    "        dropout_data = torch.matmul(data,diag)\n",
    "        model_copy.fc3.weight = nn.Parameter(dropout_data)\n",
    "    \n",
    "        distr[t] = model_copy(sample_image.reshape(-1,784)).detach().numpy()[0]\n",
    "    return distr"
   ]
  },
  {
   "cell_type": "code",
   "execution_count": 19,
   "metadata": {},
   "outputs": [],
   "source": [
    "#here I try to examine the impact of different activation functions\n",
    "tau = 10\n",
    "distr = distr_gen(model, sample_image, 100)\n",
    "mean = np.mean(distr,axis=0)\n",
    "covariance = 1/tau*np.identity(len(mean))\n",
    "covariance += np.mean(np.array([np.outer(x,x) for x in distr]),axis=0) - np.outer(mean,mean)\n",
    "std = np.sqrt(covariance.diagonal())"
   ]
  },
  {
   "cell_type": "code",
   "execution_count": 20,
   "metadata": {},
   "outputs": [
    {
     "data": {
      "image/png": "[encoded data removed]",
      "text/plain": [
       "<Figure size 864x360 with 2 Axes>"
      ]
     },
     "metadata": {
      "needs_background": "light"
     },
     "output_type": "display_data"
    }
   ],
   "source": [
    "activation = 'sigmoid'\n",
    "fig = plt.figure(figsize=(12,5))\n",
    "fig.add_subplot(121)\n",
    "plt.title(activation + ' activation')\n",
    "plt.errorbar(list(range(10)),mean,yerr=std, fmt='ro', capsize=4)\n",
    "plt.xticks([0,1,2,3,4,5,6,7,8,9])\n",
    "plt.grid('True')\n",
    "\n",
    "fig.add_subplot(122)\n",
    "plt.title('Ground truth: {}'.format(sample_label))\n",
    "plt.imshow(sample_image.view(28,28))\n",
    "#plt.savefig(activation + ' activation, label {}.png'.format(label))\n",
    "plt.show()"
   ]
  },
  {
   "cell_type": "code",
   "execution_count": 22,
   "metadata": {},
   "outputs": [],
   "source": [
    "#now I am trying to reproduce the result from the paper\n",
    "#how does the rotation of an image with \"1\" impacts the predictions and uncertainty\n",
    "#I will track the predictions for \"1\", \"5\" and \"7\"\n",
    "distrs = []\n",
    "for i in range(10):\n",
    "    distrs.append(distr_gen(model,mod_images[i],100))"
   ]
  },
  {
   "cell_type": "code",
   "execution_count": 31,
   "metadata": {},
   "outputs": [],
   "source": [
    "means = np.zeros((10,10))\n",
    "stds = np.zeros((10,10))\n",
    "for i in range(10):\n",
    "    mean = np.mean(distrs[i],axis=0)\n",
    "    means[i] = mean\n",
    "    covariance = 1/tau*np.identity(len(mean))\n",
    "    covariance += np.mean(np.array([np.outer(x,x) for x in distrs[i]]),axis=0) - np.outer(mean,mean)\n",
    "    std = np.sqrt(covariance.diagonal())\n",
    "    stds[i] = std    "
   ]
  },
  {
   "cell_type": "code",
   "execution_count": 41,
   "metadata": {},
   "outputs": [
    {
     "data": {
      "image/png": "[encoded data removed]",
      "text/plain": [
       "<Figure size 432x288 with 1 Axes>"
      ]
     },
     "metadata": {
      "needs_background": "light"
     },
     "output_type": "display_data"
    },
    {
     "name": "stdout",
     "output_type": "stream",
     "text": [
      "actual predictions:  [1 1 1 1 2 2 2 4 4 4]\n"
     ]
    }
   ],
   "source": [
    "X = np.arange(10)*10\n",
    "plt.errorbar(X, means[:,1], yerr=stds[:,1], fmt='ro',capsize=4)\n",
    "plt.errorbar(X, means[:,2], yerr=stds[:,2], fmt='bo',capsize=4)\n",
    "plt.errorbar(X, means[:,4], yerr=stds[:,4], fmt='go',capsize=4)\n",
    "plt.xlabel('angle')\n",
    "plt.ylabel('logits')\n",
    "plt.grid(True)\n",
    "plt.show()\n",
    "print('actual predictions: ',np.argmax(means, axis=1))"
   ]
  },
  {
   "cell_type": "markdown",
   "metadata": {},
   "source": [
    "As wee see from the plot, prediction distributions do overlap as the image rotates. We may develop an uncertainty criterion from there: if overlapping is not significant than the prediction is okay. From the figure we can see that \"certain\" predictions are only for slightly rotated image while the others are non-sense. "
   ]
  }
 ],
 "metadata": {
  "kernelspec": {
   "display_name": "Python 3",
   "language": "python",
   "name": "python3"
  },
  "language_info": {
   "codemirror_mode": {
    "name": "ipython",
    "version": 3
   },
   "file_extension": ".py",
   "mimetype": "text/x-python",
   "name": "python",
   "nbconvert_exporter": "python",
   "pygments_lexer": "ipython3",
   "version": "3.6.9"
  }
 },
 "nbformat": 4,
 "nbformat_minor": 4
}
