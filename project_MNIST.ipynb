{
 "cells": [
  {
   "cell_type": "code",
   "execution_count": 256,
   "metadata": {},
   "outputs": [],
   "source": [
    "import matplotlib.pyplot as plt\n",
    "import copy\n",
    "import numpy as np\n",
    "from PIL import Image"
   ]
  },
  {
   "cell_type": "code",
   "execution_count": 218,
   "metadata": {},
   "outputs": [
    {
     "name": "stdout",
     "output_type": "stream",
     "text": [
      "Epoch [1/5], Step [100/600], Loss: 0.5970\n",
      "Epoch [1/5], Step [200/600], Loss: 0.2960\n",
      "Epoch [1/5], Step [300/600], Loss: 0.2414\n",
      "Epoch [1/5], Step [400/600], Loss: 0.3429\n",
      "Epoch [1/5], Step [500/600], Loss: 0.2180\n",
      "Epoch [1/5], Step [600/600], Loss: 0.1452\n",
      "Epoch [2/5], Step [100/600], Loss: 0.1608\n",
      "Epoch [2/5], Step [200/600], Loss: 0.3788\n",
      "Epoch [2/5], Step [300/600], Loss: 0.2234\n",
      "Epoch [2/5], Step [400/600], Loss: 0.1360\n",
      "Epoch [2/5], Step [500/600], Loss: 0.1494\n",
      "Epoch [2/5], Step [600/600], Loss: 0.2161\n",
      "Epoch [3/5], Step [100/600], Loss: 0.1345\n",
      "Epoch [3/5], Step [200/600], Loss: 0.0912\n",
      "Epoch [3/5], Step [300/600], Loss: 0.0123\n",
      "Epoch [3/5], Step [400/600], Loss: 0.1143\n",
      "Epoch [3/5], Step [500/600], Loss: 0.2478\n",
      "Epoch [3/5], Step [600/600], Loss: 0.1745\n",
      "Epoch [4/5], Step [100/600], Loss: 0.1435\n",
      "Epoch [4/5], Step [200/600], Loss: 0.1940\n",
      "Epoch [4/5], Step [300/600], Loss: 0.1410\n",
      "Epoch [4/5], Step [400/600], Loss: 0.0545\n",
      "Epoch [4/5], Step [500/600], Loss: 0.0682\n",
      "Epoch [4/5], Step [600/600], Loss: 0.1101\n",
      "Epoch [5/5], Step [100/600], Loss: 0.0697\n",
      "Epoch [5/5], Step [200/600], Loss: 0.1616\n",
      "Epoch [5/5], Step [300/600], Loss: 0.1801\n",
      "Epoch [5/5], Step [400/600], Loss: 0.0186\n",
      "Epoch [5/5], Step [500/600], Loss: 0.0318\n",
      "Epoch [5/5], Step [600/600], Loss: 0.0452\n",
      "Accuracy of the network on the 10000 test images: 97.01 %\n"
     ]
    }
   ],
   "source": [
    " \n",
    "import torch\n",
    "import torch.nn as nn\n",
    "import torchvision\n",
    "import torchvision.transforms as transforms\n",
    "\n",
    "# Check Device configuration\n",
    "device = torch.device('cuda' if torch.cuda.is_available() else 'cpu')\n",
    "\n",
    "# Define Hyper-parameters \n",
    "input_size = 784\n",
    "hidden_size = 500\n",
    "num_classes = 10\n",
    "num_epochs = 5\n",
    "batch_size = 100\n",
    "learning_rate = 0.001\n",
    "\n",
    "# MNIST dataset \n",
    "train_dataset = torchvision.datasets.MNIST(root='../../data', \n",
    "                                           train=True, \n",
    "                                           transform=transforms.ToTensor(),  \n",
    "                                           download=True)\n",
    "\n",
    "test_dataset = torchvision.datasets.MNIST(root='../../data', \n",
    "                                          train=False, \n",
    "                                          transform=transforms.ToTensor())\n",
    "\n",
    "# Data loader\n",
    "train_loader = torch.utils.data.DataLoader(dataset=train_dataset, \n",
    "                                           batch_size=batch_size, \n",
    "                                           shuffle=True)\n",
    "\n",
    "test_loader = torch.utils.data.DataLoader(dataset=test_dataset, \n",
    "                                          batch_size=batch_size, \n",
    "                                          shuffle=False)\n",
    "\n",
    "# Fully connected neural network\n",
    "class NeuralNet(nn.Module):\n",
    "    def __init__(self, input_size, hidden_size, num_classes):\n",
    "        super(NeuralNet, self).__init__()\n",
    "        self.fc1 = nn.Linear(input_size, hidden_size) \n",
    "        self.relu1 = nn.Sigmoid()\n",
    "        self.fc2 = nn.Linear(hidden_size, hidden_size)  \n",
    "        self.relu2 = nn.Sigmoid()\n",
    "        self.fc3 = nn.Linear(hidden_size, num_classes)  \n",
    "    \n",
    "    def forward(self, x):\n",
    "        out = self.fc1(x)\n",
    "        out = self.relu1(out)\n",
    "        out = self.fc2(out)\n",
    "        out = self.relu2(out)\n",
    "        out = self.fc3(out)\n",
    "        return out\n",
    "\n",
    "model = NeuralNet(input_size, hidden_size, num_classes).to(device)\n",
    "\n",
    "# Loss and optimizer\n",
    "criterion = nn.CrossEntropyLoss()\n",
    "optimizer = torch.optim.Adam(model.parameters(), lr=learning_rate)  \n",
    "\n",
    "# Train the model\n",
    "total_step = len(train_loader)\n",
    "for epoch in range(num_epochs):\n",
    "    for i, (images, labels) in enumerate(train_loader):  \n",
    "        # Move tensors to the configured device\n",
    "        images = images.reshape(-1, 28*28).to(device)\n",
    "        labels = labels.to(device)\n",
    "        \n",
    "        # Forward pass\n",
    "        outputs = model(images)\n",
    "        loss = criterion(outputs, labels)\n",
    "        \n",
    "        # Backprpagation and optimization\n",
    "        optimizer.zero_grad()\n",
    "        loss.backward()\n",
    "        optimizer.step()\n",
    "        \n",
    "        if (i+1) % 100 == 0:\n",
    "            print ('Epoch [{}/{}], Step [{}/{}], Loss: {:.4f}' \n",
    "                   .format(epoch+1, num_epochs, i+1, total_step, loss.item()))\n",
    "\n",
    "# Test the model\n",
    "# In the test phase, don't need to compute gradients (for memory efficiency)\n",
    "with torch.no_grad():\n",
    "    correct = 0\n",
    "    total = 0\n",
    "    for images, labels in test_loader:\n",
    "        images = images.reshape(-1, 28*28).to(device)\n",
    "        labels = labels.to(device)\n",
    "        outputs = model(images)\n",
    "        _, predicted = torch.max(outputs.data, 1)\n",
    "        total += labels.size(0)\n",
    "        correct += (predicted == labels).sum().item()\n",
    "\n",
    "    print('Accuracy of the network on the 10000 test images: {} %'.format(100 * correct / total))\n",
    "\n",
    "# Save the model checkpoint\n",
    "torch.save(model.state_dict(), 'model.ckpt')\n",
    "\n"
   ]
  },
  {
   "cell_type": "code",
   "execution_count": 260,
   "metadata": {},
   "outputs": [],
   "source": [
    "index = 5\n",
    "for test_images, test_labels in test_loader:  \n",
    "    sample_image = test_images[index]    \n",
    "    sample_label = test_labels[index]\n",
    "    break"
   ]
  },
  {
   "cell_type": "code",
   "execution_count": 284,
   "metadata": {},
   "outputs": [],
   "source": [
    "mod_image = torch.Tensor(np.array(Image.fromarray(sample_image.view(28,28).detach().numpy()).rotate(-0))).view(1,28,28)"
   ]
  },
  {
   "cell_type": "code",
   "execution_count": 285,
   "metadata": {},
   "outputs": [
    {
     "name": "stdout",
     "output_type": "stream",
     "text": [
      "tensor([[-8.7258, 10.0467, -2.3242, -1.5183, -1.6959, -4.7947, -6.3711,  1.4407,\n",
      "         -2.2323, -1.6650]], grad_fn=<AddmmBackward>)\n"
     ]
    },
    {
     "data": {
      "text/plain": [
       "<matplotlib.image.AxesImage at 0x7f45b4997c50>"
      ]
     },
     "execution_count": 285,
     "metadata": {},
     "output_type": "execute_result"
    },
    {
     "data": {
      "image/png": "[encoded data removed]",
      "text/plain": [
       "<Figure size 432x288 with 1 Axes>"
      ]
     },
     "metadata": {
      "needs_background": "light"
     },
     "output_type": "display_data"
    }
   ],
   "source": [
    "print(model(mod_image.reshape(-1,784)))\n",
    "plt.imshow(mod_image.view(28,28))"
   ]
  },
  {
   "cell_type": "code",
   "execution_count": 253,
   "metadata": {},
   "outputs": [],
   "source": [
    "from scipy.stats import bernoulli\n",
    "def bernoulli_diagonal(mat):\n",
    "    p=0.5\n",
    "    r = torch.Tensor(bernoulli.rvs(p, size=mat.shape[1]))\n",
    "    ind = np.diag_indices(mat.shape[1])\n",
    "    diag_mat = torch.zeros((mat.shape[1], mat.shape[1]))\n",
    "    diag_mat[ind[0], ind[1]] = r\n",
    "    return torch.Tensor(diag_mat)"
   ]
  },
  {
   "cell_type": "code",
   "execution_count": 254,
   "metadata": {},
   "outputs": [],
   "source": [
    "T = 100\n",
    "distr = np.zeros((T,10))\n",
    "label = torch.argmax(model(sample_image.reshape(-1,784))).item()\n",
    "for t in range(T):\n",
    "    model_copy = copy.deepcopy(model)\n",
    "    \n",
    "    data = model_copy.fc1.weight.data\n",
    "    diag = bernoulli_diagonal(data)\n",
    "    dropout_data = torch.matmul(data,diag)\n",
    "    model_copy.fc1.weight = nn.Parameter(dropout_data)\n",
    "    \n",
    "    data = model_copy.fc2.weight.data\n",
    "    diag = bernoulli_diagonal(data)\n",
    "    dropout_data = torch.matmul(data,diag)\n",
    "    model_copy.fc2.weight = nn.Parameter(dropout_data)\n",
    "    \n",
    "    data = model_copy.fc3.weight.data\n",
    "    diag = bernoulli_diagonal(data)\n",
    "    dropout_data = torch.matmul(data,diag)\n",
    "    model_copy.fc3.weight = nn.Parameter(dropout_data)\n",
    "    \n",
    "    distr[t] = model_copy(sample_image.reshape(-1,784)).detach().numpy()[0]"
   ]
  },
  {
   "cell_type": "code",
   "execution_count": 243,
   "metadata": {},
   "outputs": [],
   "source": [
    "tau = 10\n",
    "mean = np.mean(distr,axis=0)\n",
    "covariance = 1/tau*np.identity(len(mean))\n",
    "covariance += np.mean(np.array([np.outer(x,x) for x in distr]),axis=0) - np.outer(mean,mean)\n",
    "std = np.sqrt(covariance.diagonal())"
   ]
  },
  {
   "cell_type": "code",
   "execution_count": 244,
   "metadata": {},
   "outputs": [
    {
     "data": {
      "image/png": "[encoded data removed]",
      "text/plain": [
       "<Figure size 864x360 with 2 Axes>"
      ]
     },
     "metadata": {
      "needs_background": "light"
     },
     "output_type": "display_data"
    }
   ],
   "source": [
    "activation = 'sigmoid'\n",
    "fig = plt.figure(figsize=(12,5))\n",
    "fig.add_subplot(121)\n",
    "plt.title(activation + ' activation')\n",
    "plt.errorbar(list(range(10)),mean,yerr=std, fmt='ro', capsize=4)\n",
    "plt.xticks([0,1,2,3,4,5,6,7,8,9])\n",
    "plt.grid('True')\n",
    "\n",
    "fig.add_subplot(122)\n",
    "plt.title('Ground truth: {}'.format(sample_label))\n",
    "plt.imshow(sample_image.view(28,28))\n",
    "#plt.savefig(activation + ' activation, label {}.png'.format(label))\n",
    "plt.show()"
   ]
  },
  {
   "cell_type": "code",
   "execution_count": null,
   "metadata": {},
   "outputs": [],
   "source": []
  }
 ],
 "metadata": {
  "kernelspec": {
   "display_name": "Python 3",
   "language": "python",
   "name": "python3"
  },
  "language_info": {
   "codemirror_mode": {
    "name": "ipython",
    "version": 3
   },
   "file_extension": ".py",
   "mimetype": "text/x-python",
   "name": "python",
   "nbconvert_exporter": "python",
   "pygments_lexer": "ipython3",
   "version": "3.6.9"
  }
 },
 "nbformat": 4,
 "nbformat_minor": 4
}
