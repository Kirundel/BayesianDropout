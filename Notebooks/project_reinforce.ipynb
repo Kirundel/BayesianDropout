{
 "cells": [
  {
   "cell_type": "markdown",
   "metadata": {},
   "source": [
    "# REINFORCE in pytorch"
   ]
  },
  {
   "cell_type": "code",
   "execution_count": 1,
   "metadata": {},
   "outputs": [
    {
     "name": "stderr",
     "output_type": "stream",
     "text": [
      "\"bash\" ­Ґ пў«пҐвбп ў­гваҐ­­Ґ© Ё«Ё ў­Ґи­Ґ©\n",
      "Є®¬ ­¤®©, ЁбЇ®«­пҐ¬®© Їа®Ја ¬¬®© Ё«Ё Ї ЄҐв­л¬ д ©«®¬.\n"
     ]
    }
   ],
   "source": [
    "# XVFB will be launched if you run on a server\n",
    "import os\n",
    "if type(os.environ.get(\"DISPLAY\")) is not str or len(os.environ.get(\"DISPLAY\")) == 0:\n",
    "    !bash ../xvfb start\n",
    "    os.environ['DISPLAY'] = ':1'"
   ]
  },
  {
   "cell_type": "code",
   "execution_count": 2,
   "metadata": {},
   "outputs": [
    {
     "data": {
      "text/plain": [
       "<matplotlib.image.AxesImage at 0x23ca0e4fc70>"
      ]
     },
     "execution_count": 2,
     "metadata": {},
     "output_type": "execute_result"
    },
    {
     "data": {
      "image/png": "[encoded data removed]",
      "text/plain": [
       "<Figure size 432x288 with 1 Axes>"
      ]
     },
     "metadata": {
      "needs_background": "light"
     },
     "output_type": "display_data"
    }
   ],
   "source": [
    "import gym\n",
    "import numpy as np\n",
    "import pandas as pd\n",
    "import matplotlib.pyplot as plt\n",
    "%matplotlib inline\n",
    "\n",
    "env = gym.make(\"CartPole-v0\").env\n",
    "env.reset()\n",
    "\n",
    "plt.imshow(env.render(\"rgb_array\"))"
   ]
  },
  {
   "cell_type": "markdown",
   "metadata": {},
   "source": [
    "# Building the network for REINFORCE"
   ]
  },
  {
   "cell_type": "markdown",
   "metadata": {},
   "source": [
    "For REINFORCE algorithm, we'll need a model that predicts action probabilities given states. Let's define such a model below."
   ]
  },
  {
   "cell_type": "code",
   "execution_count": 3,
   "metadata": {},
   "outputs": [],
   "source": [
    "import torch\n",
    "import torch.nn as nn"
   ]
  },
  {
   "cell_type": "code",
   "execution_count": 180,
   "metadata": {},
   "outputs": [],
   "source": [
    "class my_net(nn.Module):\n",
    "    def __init__(self):\n",
    "        super().__init__()\n",
    "        self.linear1 = nn.Linear(4, 51)\n",
    "        self.dropout1 = nn.Dropout(0.2)\n",
    "        self.relu1 = nn.ReLU()\n",
    "        self.linear2 = nn.Linear(51, 73)\n",
    "        self.dropout2 = nn.Dropout(0.2)\n",
    "        self.relu2 = nn.ReLU()\n",
    "        self.linear3 = nn.Linear(73, 2)\n",
    "        \n",
    "    def forward(self, x):\n",
    "        h = self.linear1(x)\n",
    "        #h = self.dropout1(h)\n",
    "        h = self.relu1(h)\n",
    "        h = self.linear2(h)\n",
    "        #h = self.dropout2(h)\n",
    "        h = self.relu2(h)\n",
    "        h = self.linear3(h)\n",
    "        return h\n",
    "\n",
    "model = my_net()"
   ]
  },
  {
   "cell_type": "markdown",
   "metadata": {},
   "source": [
    "#### Predict function"
   ]
  },
  {
   "cell_type": "code",
   "execution_count": 181,
   "metadata": {},
   "outputs": [],
   "source": [
    "def predict_probs(states):\n",
    "    \"\"\" \n",
    "    Predict action probabilities given states.\n",
    "    :param states: numpy array of shape [batch, state_shape]\n",
    "    :returns: numpy array of shape [batch, n_actions]\n",
    "    \"\"\"\n",
    "    # convert states, compute logits, use softmax to get probability\n",
    "    x = torch.tensor(states, dtype=torch.float32)\n",
    "    h = model(x)\n",
    "    prob = torch.softmax(h, -1).data.numpy()\n",
    "    \n",
    "    return prob"
   ]
  },
  {
   "cell_type": "markdown",
   "metadata": {},
   "source": [
    "### Play the game"
   ]
  },
  {
   "cell_type": "code",
   "execution_count": 183,
   "metadata": {},
   "outputs": [],
   "source": [
    "def generate_session(t_max=1000):\n",
    "    \"\"\" \n",
    "    play a full session with REINFORCE agent and train at the session end.\n",
    "    returns sequences of states, actions andrewards\n",
    "    \"\"\"\n",
    "    # arrays to record session\n",
    "    states, actions, rewards, probs = [], [], [], []\n",
    "    s = env.reset()\n",
    "\n",
    "    for t in range(t_max):\n",
    "        # action probabilities array aka pi(a|s)\n",
    "        action_probs = predict_probs(np.array([s]))[0]\n",
    "        probs.append(action_probs)\n",
    "\n",
    "        # Sample action with given probabilities.\n",
    "        a = action_probs.argmax()\n",
    "        new_s, r, done, info = env.step(a)\n",
    "\n",
    "        # record session history to train later\n",
    "        states.append(s)\n",
    "        actions.append(a)\n",
    "        rewards.append(r)\n",
    "\n",
    "        s = new_s\n",
    "        if done:\n",
    "            break\n",
    "\n",
    "    return states, actions, rewards"
   ]
  },
  {
   "cell_type": "code",
   "execution_count": 184,
   "metadata": {},
   "outputs": [],
   "source": [
    "# test it\n",
    "states, actions, rewards = generate_session()"
   ]
  },
  {
   "cell_type": "markdown",
   "metadata": {},
   "source": [
    "### Computing cumulative rewards"
   ]
  },
  {
   "cell_type": "code",
   "execution_count": 185,
   "metadata": {},
   "outputs": [],
   "source": [
    "def get_cumulative_rewards(rewards,  # rewards at each step\n",
    "                           gamma=0.99  # discount for reward\n",
    "                           ):\n",
    "    rewards.reverse()\n",
    "    G = [rewards[0]]\n",
    "    for r in rewards[1:]:\n",
    "        G.append(gamma*G[-1]+r)\n",
    "    rewards.reverse()\n",
    "    G.reverse()\n",
    "    return G"
   ]
  },
  {
   "cell_type": "markdown",
   "metadata": {},
   "source": [
    "#### Loss function and updates"
   ]
  },
  {
   "cell_type": "code",
   "execution_count": 187,
   "metadata": {},
   "outputs": [],
   "source": [
    "def to_one_hot(y_tensor, ndims):\n",
    "    y_tensor = y_tensor.type(torch.LongTensor).view(-1, 1)\n",
    "    y_one_hot = torch.zeros(\n",
    "        y_tensor.size()[0], ndims).scatter_(1, y_tensor, 1)\n",
    "    return y_one_hot"
   ]
  },
  {
   "cell_type": "code",
   "execution_count": 188,
   "metadata": {},
   "outputs": [],
   "source": [
    "optimizer = torch.optim.Adam(model.parameters(), 1e-3)\n",
    "\n",
    "def train_on_session(states, actions, rewards, gamma=0.9, entropy_coef=1e-0):\n",
    "    # cast everything into torch tensors\n",
    "    states = torch.tensor(states, dtype=torch.float32)\n",
    "    actions = torch.tensor(actions, dtype=torch.int32)\n",
    "    #cumulative_returns = np.array(get_cumulative_rewards(rewards, gamma))\n",
    "    #cumulative_returns = torch.tensor(cumulative_returns, dtype=torch.float32)\n",
    "    cumulative_returns = torch.tensor(rewards, dtype=torch.float32)\n",
    "\n",
    "    # predict logits, probas and log-probas using an agent.\n",
    "    logits = model(states)\n",
    "    probs = nn.functional.softmax(logits, -1)\n",
    "    log_probs = nn.functional.log_softmax(logits, -1)\n",
    "\n",
    "    # select log-probabilities for chosen actions, log pi(a_i|s_i)\n",
    "    log_probs_for_actions = torch.sum(log_probs * to_one_hot(actions, env.action_space.n), dim=1)\n",
    "   \n",
    "    # Compute loss here. Don't forgen entropy regularization with `entropy_coef` \n",
    "    entropy = probs * log_probs\n",
    "    loss = (log_probs_for_actions*cumulative_returns).mean()# + (1/entropy_coef)*entropy.mean()\n",
    "\n",
    "    # Gradient descent step\n",
    "    optimizer.zero_grad()\n",
    "    loss.backward()\n",
    "    optimizer.step()\n",
    "\n",
    "    # technical: return session rewards to print them later\n",
    "    return np.sum(rewards)"
   ]
  },
  {
   "cell_type": "markdown",
   "metadata": {},
   "source": [
    "### The actual training"
   ]
  },
  {
   "cell_type": "code",
   "execution_count": 191,
   "metadata": {
    "scrolled": true
   },
   "outputs": [
    {
     "name": "stdout",
     "output_type": "stream",
     "text": [
      "mean reward:56.790\n",
      "mean reward:76.400\n",
      "mean reward:106.190\n",
      "mean reward:73.000\n",
      "mean reward:108.250\n",
      "mean reward:67.330\n",
      "mean reward:112.000\n",
      "mean reward:104.910\n",
      "mean reward:91.330\n",
      "mean reward:102.420\n",
      "mean reward:76.430\n",
      "mean reward:52.390\n",
      "mean reward:71.070\n",
      "mean reward:101.050\n",
      "mean reward:170.120\n",
      "mean reward:99.490\n",
      "mean reward:261.920\n",
      "mean reward:156.990\n",
      "mean reward:86.740\n",
      "mean reward:142.290\n",
      "mean reward:142.050\n",
      "mean reward:127.960\n",
      "mean reward:124.470\n",
      "mean reward:194.470\n",
      "mean reward:176.150\n",
      "mean reward:174.140\n",
      "mean reward:191.890\n",
      "mean reward:124.280\n",
      "mean reward:166.480\n",
      "mean reward:151.650\n",
      "mean reward:88.050\n",
      "mean reward:159.420\n",
      "mean reward:193.510\n",
      "mean reward:106.760\n",
      "mean reward:213.440\n",
      "mean reward:134.120\n",
      "mean reward:107.490\n",
      "mean reward:149.280\n",
      "mean reward:127.090\n",
      "mean reward:60.110\n",
      "mean reward:78.970\n",
      "mean reward:157.600\n",
      "mean reward:196.970\n",
      "mean reward:198.320\n",
      "mean reward:140.430\n",
      "mean reward:80.930\n",
      "mean reward:142.700\n",
      "mean reward:101.540\n",
      "mean reward:136.820\n",
      "mean reward:74.180\n",
      "mean reward:81.350\n",
      "mean reward:92.140\n",
      "mean reward:110.090\n",
      "mean reward:87.670\n",
      "mean reward:53.840\n",
      "mean reward:59.790\n",
      "mean reward:110.610\n",
      "mean reward:310.910\n",
      "mean reward:137.370\n",
      "mean reward:59.160\n",
      "mean reward:86.280\n",
      "mean reward:132.050\n",
      "mean reward:46.710\n",
      "mean reward:119.030\n",
      "mean reward:144.120\n",
      "mean reward:119.470\n",
      "mean reward:151.620\n",
      "mean reward:124.580\n",
      "mean reward:89.070\n",
      "mean reward:166.640\n",
      "mean reward:156.800\n",
      "mean reward:145.420\n",
      "mean reward:83.480\n",
      "mean reward:43.840\n",
      "mean reward:113.270\n",
      "mean reward:128.390\n",
      "mean reward:105.640\n",
      "mean reward:94.070\n",
      "mean reward:117.890\n",
      "mean reward:65.590\n",
      "mean reward:70.900\n",
      "mean reward:77.330\n",
      "mean reward:39.060\n",
      "mean reward:71.360\n",
      "mean reward:89.070\n",
      "mean reward:280.220\n",
      "mean reward:182.370\n",
      "mean reward:115.610\n",
      "mean reward:94.170\n",
      "mean reward:127.520\n",
      "mean reward:214.130\n",
      "mean reward:96.680\n",
      "mean reward:124.860\n",
      "mean reward:115.030\n",
      "mean reward:72.230\n",
      "mean reward:129.010\n",
      "mean reward:282.800\n",
      "mean reward:177.000\n",
      "mean reward:185.440\n",
      "mean reward:173.660\n"
     ]
    }
   ],
   "source": [
    "avr_rewards4 = []\n",
    "\n",
    "for i in range(100):\n",
    "    rewards = [train_on_session(*generate_session(), gamma=0.99) for _ in range(100)]  # generate new sessions\n",
    "    avr_rewards4.append(np.mean(rewards))\n",
    "    \n",
    "    print(\"mean reward:%.3f\" % (np.mean(rewards)))\n",
    "    if np.mean(rewards) > 500:\n",
    "        print(\"You Win!\")  # but you can train even further\n",
    "        break"
   ]
  },
  {
   "cell_type": "code",
   "execution_count": 194,
   "metadata": {},
   "outputs": [
    {
     "data": {
      "image/png": "[encoded data removed]",
      "text/plain": [
       "<Figure size 432x288 with 1 Axes>"
      ]
     },
     "metadata": {
      "needs_background": "light"
     },
     "output_type": "display_data"
    }
   ],
   "source": [
    "plt.plot(avr_rewards4)\n",
    "plt.plot(avr_rewards5)\n",
    "\n",
    "plt.xlabel('step')\n",
    "plt.ylabel('avr_reward');"
   ]
  }
 ],
 "metadata": {
  "kernelspec": {
   "display_name": "Python 3",
   "language": "python",
   "name": "python3"
  },
  "language_info": {
   "codemirror_mode": {
    "name": "ipython",
    "version": 3
   },
   "file_extension": ".py",
   "mimetype": "text/x-python",
   "name": "python",
   "nbconvert_exporter": "python",
   "pygments_lexer": "ipython3",
   "version": "3.8.4"
  }
 },
 "nbformat": 4,
 "nbformat_minor": 4
}
