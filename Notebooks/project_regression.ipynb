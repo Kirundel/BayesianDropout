{
 "cells": [
  {
   "cell_type": "code",
   "execution_count": 1,
   "metadata": {},
   "outputs": [],
   "source": [
    "import matplotlib.pyplot as plt\n",
    "import copy\n",
    "import numpy as np\n",
    "from PIL import Image"
   ]
  },
  {
   "cell_type": "code",
   "execution_count": 2,
   "metadata": {},
   "outputs": [
    {
     "data": {
      "text/plain": [
       "((354, 105), (152, 105), (354, 1), (152, 1))"
      ]
     },
     "execution_count": 2,
     "metadata": {},
     "output_type": "execute_result"
    }
   ],
   "source": [
    "from sklearn.datasets import load_boston, fetch_california_housing\n",
    "from sklearn.model_selection import train_test_split\n",
    "from sklearn.preprocessing import PolynomialFeatures\n",
    "from sklearn.preprocessing import StandardScaler, MinMaxScaler\n",
    "\n",
    "scaler_x = MinMaxScaler()\n",
    "scaler_y = MinMaxScaler()\n",
    "X, y = load_boston(return_X_y=True)\n",
    "# X, y = fetch_california_housing(return_X_y=True)\n",
    "X, y = scaler_x.fit_transform(X), scaler_y.fit_transform(y[:, None])\n",
    "X_train, X_test, y_train, y_test = train_test_split(X, y, test_size=0.3, random_state=42)\n",
    "poly = PolynomialFeatures(2)\n",
    "X_train = poly.fit_transform(X_train)\n",
    "X_test = poly.transform(X_test)\n",
    "\n",
    "X_train.shape, X_test.shape, y_train.shape, y_test.shape"
   ]
  },
  {
   "cell_type": "code",
   "execution_count": 3,
   "metadata": {
    "scrolled": true
   },
   "outputs": [
    {
     "data": {
      "application/vnd.jupyter.widget-view+json": {
       "model_id": "1cd450942146418f8d5d090ed26da147",
       "version_major": 2,
       "version_minor": 0
      },
      "text/plain": [
       "HBox(children=(HTML(value=''), FloatProgress(value=0.0, max=200.0), HTML(value='')))"
      ]
     },
     "metadata": {},
     "output_type": "display_data"
    },
    {
     "name": "stdout",
     "output_type": "stream",
     "text": [
      "100 0.01366\n",
      "200 0.01082\n",
      "\n"
     ]
    },
    {
     "data": {
      "image/png": "[encoded data removed]",
      "text/plain": [
       "<Figure size 432x288 with 1 Axes>"
      ]
     },
     "metadata": {
      "needs_background": "light"
     },
     "output_type": "display_data"
    },
    {
     "name": "stdout",
     "output_type": "stream",
     "text": [
      "MAE error 0.07233935594558716\n"
     ]
    }
   ],
   "source": [
    "import torch\n",
    "import torch.nn as nn\n",
    "import torchvision\n",
    "import torchvision.transforms as transforms\n",
    "from tqdm.notebook import tqdm\n",
    "\n",
    "# Check Device configuration\n",
    "device = torch.device('cuda' if torch.cuda.is_available() else 'cpu')\n",
    "\n",
    "# Define Hyper-parameters \n",
    "input_size = X_train.shape[-1]\n",
    "hidden_size = 50\n",
    "num_classes = 1\n",
    "num_epochs = 200\n",
    "# num_epochs = 1\n",
    "batch_size = 200\n",
    "learning_rate = 0.01\n",
    "dropout_prob = 0.3\n",
    "\n",
    "\n",
    "def get_dataset(X, y):\n",
    "    return torch.utils.data.TensorDataset(torch.Tensor(X).to(device), torch.Tensor(y).to(device))\n",
    "\n",
    "\n",
    "# dataset \n",
    "train_dataset = get_dataset(X_train, y_train)\n",
    "\n",
    "test_dataset = get_dataset(X_test, y_test)\n",
    "\n",
    "# Data loader\n",
    "train_loader = torch.utils.data.DataLoader(dataset=train_dataset, \n",
    "                                           batch_size=batch_size, \n",
    "                                           shuffle=True)\n",
    "\n",
    "test_loader = torch.utils.data.DataLoader(dataset=test_dataset, \n",
    "                                          batch_size=batch_size, \n",
    "                                          shuffle=False)\n",
    "\n",
    "# Fully connected neural network\n",
    "class NeuralNet(nn.Module):\n",
    "    def __init__(self, input_size, hidden_size, num_classes):\n",
    "        super(NeuralNet, self).__init__()\n",
    "        self.dropout0 = nn.Dropout(dropout_prob)\n",
    "        self.fc1 = nn.Linear(input_size, hidden_size) \n",
    "#         self.relu1 = nn.Sigmoid()\n",
    "        self.relu1 = nn.PReLU()\n",
    "        self.dropout1 = nn.Dropout(dropout_prob)\n",
    "        self.fc2 = nn.Linear(hidden_size, hidden_size)  \n",
    "#         self.relu2 = nn.Sigmoid()\n",
    "        self.relu2 = nn.PReLU()\n",
    "        self.dropout2 = nn.Dropout(dropout_prob)\n",
    "        self.fc3 = nn.Linear(hidden_size, num_classes)  \n",
    "    \n",
    "    def forward(self, x):\n",
    "        out = self.dropout0(x)\n",
    "        out = self.fc1(out)\n",
    "        out = self.relu1(out)\n",
    "#         out = self.dropout1(out)\n",
    "#         out = self.fc2(out)\n",
    "#         out = self.relu2(out)\n",
    "        out = self.dropout2(out)\n",
    "        out = self.fc3(out)\n",
    "        return out\n",
    "\n",
    "model = NeuralNet(input_size, hidden_size, num_classes).to(device)\n",
    "\n",
    "# Loss and optimizer\n",
    "criterion = nn.MSELoss(reduction='mean')\n",
    "optimizer = torch.optim.Adam(model.parameters(), lr=learning_rate)  \n",
    "\n",
    "# Train the model\n",
    "total_step = len(train_loader)\n",
    "losses = []\n",
    "for epoch in tqdm(range(num_epochs)):\n",
    "    cur_loss = 0.0\n",
    "    sum_length = 0\n",
    "    for i, (data, answers) in enumerate(train_loader):  \n",
    "        \n",
    "        outputs = model(data)\n",
    "        mrt = (torch.abs(answers - answers.mean()).mean() * 10.0 + 1e-5)\n",
    "        loss = criterion(outputs, answers)# + (((outputs - outputs.mean()) / mrt) ** 2).mean()\n",
    "        cur_loss += float(loss.cpu().detach().numpy()) * data.shape[0]\n",
    "        sum_length += data.shape[0]\n",
    "        \n",
    "        # Backprpagation and optimization\n",
    "        optimizer.zero_grad()\n",
    "        loss.backward()\n",
    "        optimizer.step()\n",
    "    \n",
    "    cur_loss /= sum_length\n",
    "    losses.append(cur_loss)\n",
    "    optimizer.param_groups[0]['lr'] *= 0.99\n",
    "    \n",
    "    if epoch % 100 == 99:\n",
    "        print(epoch + 1, round(cur_loss, 5))\n",
    "\n",
    "plt.yscale('log')\n",
    "plt.plot(losses)\n",
    "plt.show()\n",
    "\n",
    "with torch.no_grad():\n",
    "    result_mse = 0.0\n",
    "    sum_length = 0\n",
    "    \n",
    "    for data, answers in test_loader:\n",
    "        outputs = model(data)\n",
    "        result_mse += float(torch.abs(outputs - answers).mean().cpu().detach().numpy()) * data.shape[0]\n",
    "        sum_length += data.shape[0]\n",
    "        \n",
    "    result_mse /= sum_length\n",
    "        \n",
    "    print(f\"MAE error {result_mse}\")"
   ]
  },
  {
   "cell_type": "code",
   "execution_count": 4,
   "metadata": {},
   "outputs": [
    {
     "data": {
      "text/plain": [
       "(0.0, 1.0, 0.3896179183135705)"
      ]
     },
     "execution_count": 4,
     "metadata": {},
     "output_type": "execute_result"
    }
   ],
   "source": [
    "y.min(), y.max(), y.mean()"
   ]
  },
  {
   "cell_type": "code",
   "execution_count": 5,
   "metadata": {},
   "outputs": [
    {
     "data": {
      "text/plain": [
       "tensor([[0.4216],\n",
       "        [0.8056],\n",
       "        [0.2579],\n",
       "        [0.3946],\n",
       "        [0.1550],\n",
       "        [0.3410],\n",
       "        [0.3453],\n",
       "        [0.3059],\n",
       "        [0.3458],\n",
       "        [0.3038]], device='cuda:0')"
      ]
     },
     "execution_count": 5,
     "metadata": {},
     "output_type": "execute_result"
    }
   ],
   "source": [
    "outputs[:10]"
   ]
  },
  {
   "cell_type": "code",
   "execution_count": 6,
   "metadata": {},
   "outputs": [],
   "source": [
    "#we need a portion of binary vectors to get a distribution of prediction\n",
    "from scipy.stats import bernoulli\n",
    "\n",
    "def bernoulli_diagonal(mat):\n",
    "    samples = torch.Tensor(bernoulli.rvs(1 - dropout_prob, size=mat.shape[1])).to(device)\n",
    "    return torch.diag(samples)"
   ]
  },
  {
   "cell_type": "code",
   "execution_count": 7,
   "metadata": {},
   "outputs": [],
   "source": [
    "#actual distribution generation\n",
    "def distr_gen(model, sample_image, T):\n",
    "    distr = np.zeros((sample_image.shape[0], T, num_classes))\n",
    "    for t in range(T):\n",
    "        model_copy = copy.deepcopy(model)\n",
    "    \n",
    "        for linear_layer in [model_copy.fc1, model_copy.fc2, model_copy.fc3]:\n",
    "            data = linear_layer.weight.data\n",
    "            diag = bernoulli_diagonal(data)\n",
    "            dropout_data = torch.matmul(data,diag)\n",
    "            linear_layer.weight = nn.Parameter(dropout_data)\n",
    "    \n",
    "        distr[:, t, :] = model_copy(sample_image).cpu().detach().numpy()\n",
    "    return distr"
   ]
  },
  {
   "cell_type": "code",
   "execution_count": 8,
   "metadata": {},
   "outputs": [],
   "source": [
    "# xs, ys = torch.Tensor(X_train[:batch_size // 2]).to(device), y_train[:batch_size // 2]\n",
    "xs, ys = torch.Tensor(X_test[100:100 + batch_size // 2]).to(device), y_test[100: 100 + batch_size // 2]\n",
    "distrs = distr_gen(model, xs, 100)"
   ]
  },
  {
   "cell_type": "code",
   "execution_count": 9,
   "metadata": {},
   "outputs": [
    {
     "data": {
      "text/plain": [
       "(52, 100, 1)"
      ]
     },
     "execution_count": 9,
     "metadata": {},
     "output_type": "execute_result"
    }
   ],
   "source": [
    "distrs.shape"
   ]
  },
  {
   "cell_type": "code",
   "execution_count": 10,
   "metadata": {},
   "outputs": [
    {
     "data": {
      "text/plain": [
       "(array([[0.37157485],\n",
       "        [0.39399267],\n",
       "        [0.2643997 ],\n",
       "        [0.36875033],\n",
       "        [0.40889159]]),\n",
       " array([[0.04054389],\n",
       "        [0.05383074],\n",
       "        [0.04877713],\n",
       "        [0.04289759],\n",
       "        [0.04863063]]))"
      ]
     },
     "execution_count": 10,
     "metadata": {},
     "output_type": "execute_result"
    }
   ],
   "source": [
    "means = np.mean(distrs, axis=1)\n",
    "stds = np.sqrt(((distrs - distrs.mean(axis=1, keepdims=True)) ** 2).mean(axis=1))\n",
    "means[:5], stds[:5]"
   ]
  },
  {
   "cell_type": "code",
   "execution_count": 11,
   "metadata": {
    "scrolled": true
   },
   "outputs": [
    {
     "data": {
      "image/png": "[encoded data removed]",
      "text/plain": [
       "<Figure size 432x288 with 1 Axes>"
      ]
     },
     "metadata": {
      "needs_background": "light"
     },
     "output_type": "display_data"
    }
   ],
   "source": [
    "lst = [(ys[i], means[i], means[i] - stds[i], means[i] + stds[i]) for i in range(len(means))]\n",
    "lst.sort()\n",
    "\n",
    "def inverse(val):\n",
    "#     return val\n",
    "    return scaler_y.inverse_transform(np.array(val))[:, 0]\n",
    "\n",
    "real_c = inverse([d[0] for d in lst])\n",
    "mean_c = inverse([d[1] for d in lst])\n",
    "min_c = inverse([d[2] for d in lst])\n",
    "max_c = inverse([d[3] for d in lst])\n",
    "\n",
    "plt.plot(real_c, label='real')\n",
    "plt.plot(mean_c, label='mean')\n",
    "plt.plot(min_c, label='min')\n",
    "plt.plot(max_c, label='max')\n",
    "\n",
    "plt.xlabel(\"num\")\n",
    "plt.ylabel(\"values\")\n",
    "plt.legend()\n",
    "plt.show()"
   ]
  }
 ],
 "metadata": {
  "kernelspec": {
   "display_name": "Python 3",
   "language": "python",
   "name": "python3"
  },
  "language_info": {
   "codemirror_mode": {
    "name": "ipython",
    "version": 3
   },
   "file_extension": ".py",
   "mimetype": "text/x-python",
   "name": "python",
   "nbconvert_exporter": "python",
   "pygments_lexer": "ipython3",
   "version": "3.8.0"
  }
 },
 "nbformat": 4,
 "nbformat_minor": 4
}
